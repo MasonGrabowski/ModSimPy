{
 "cells": [
  {
   "cell_type": "code",
   "execution_count": 1,
   "metadata": {},
   "outputs": [],
   "source": [
    "# Configure Jupyter so figures appear in the notebook \n",
    "\n",
    "%matplotlib inline\n",
    "\n",
    "# Configure Jupyter to display the assigned value after an assignment\n",
    "%config InteractiveShell.ast_node_interactivity='last_expr_or_assign'\n",
    "\n",
    "# import functions from the modsim.py module\n",
    "from modsim import *"
   ]
  },
  {
   "cell_type": "code",
   "execution_count": 2,
   "metadata": {},
   "outputs": [
    {
     "data": {
      "text/html": [
       "<div>\n",
       "<style scoped>\n",
       "    .dataframe tbody tr th:only-of-type {\n",
       "        vertical-align: middle;\n",
       "    }\n",
       "\n",
       "    .dataframe tbody tr th {\n",
       "        vertical-align: top;\n",
       "    }\n",
       "\n",
       "    .dataframe thead th {\n",
       "        text-align: right;\n",
       "    }\n",
       "</style>\n",
       "<table border=\"1\" class=\"dataframe\">\n",
       "  <thead>\n",
       "    <tr style=\"text-align: right;\">\n",
       "      <th></th>\n",
       "      <th>values</th>\n",
       "    </tr>\n",
       "  </thead>\n",
       "  <tbody>\n",
       "    <tr>\n",
       "      <th>R</th>\n",
       "      <td>1.000000e+03</td>\n",
       "    </tr>\n",
       "    <tr>\n",
       "      <th>L</th>\n",
       "      <td>0.000000e+00</td>\n",
       "    </tr>\n",
       "    <tr>\n",
       "      <th>E</th>\n",
       "      <td>0.000000e+00</td>\n",
       "    </tr>\n",
       "    <tr>\n",
       "      <th>V</th>\n",
       "      <td>4.000000e-07</td>\n",
       "    </tr>\n",
       "  </tbody>\n",
       "</table>\n",
       "</div>"
      ],
      "text/plain": [
       "R    1.000000e+03\n",
       "L    0.000000e+00\n",
       "E    0.000000e+00\n",
       "V    4.000000e-07\n",
       "dtype: float64"
      ]
     },
     "execution_count": 2,
     "metadata": {},
     "output_type": "execute_result"
    }
   ],
   "source": [
    "#Stocks are stored as State variables\n",
    "init = State(R = 1000, L = 0, E = 0, V = 4e-7)\n",
    "#R: Uninfected CD4 lymphocytes (white blood?) cells\n",
    "#L: Lately infected cells\n",
    "#E: Actively infected cells\n",
    "#V: free virons"
   ]
  },
  {
   "cell_type": "code",
   "execution_count": 14,
   "metadata": {},
   "outputs": [
    {
     "data": {
      "text/html": [
       "<div>\n",
       "<style scoped>\n",
       "    .dataframe tbody tr th:only-of-type {\n",
       "        vertical-align: middle;\n",
       "    }\n",
       "\n",
       "    .dataframe tbody tr th {\n",
       "        vertical-align: top;\n",
       "    }\n",
       "\n",
       "    .dataframe thead th {\n",
       "        text-align: right;\n",
       "    }\n",
       "</style>\n",
       "<table border=\"1\" class=\"dataframe\">\n",
       "  <thead>\n",
       "    <tr style=\"text-align: right;\">\n",
       "      <th></th>\n",
       "      <th>values</th>\n",
       "    </tr>\n",
       "  </thead>\n",
       "  <tbody>\n",
       "    <tr>\n",
       "      <th>gamma</th>\n",
       "      <td>1.36000</td>\n",
       "    </tr>\n",
       "    <tr>\n",
       "      <th>tau</th>\n",
       "      <td>0.20000</td>\n",
       "    </tr>\n",
       "    <tr>\n",
       "      <th>mu</th>\n",
       "      <td>0.00136</td>\n",
       "    </tr>\n",
       "    <tr>\n",
       "      <th>beta</th>\n",
       "      <td>0.00027</td>\n",
       "    </tr>\n",
       "    <tr>\n",
       "      <th>p</th>\n",
       "      <td>0.10000</td>\n",
       "    </tr>\n",
       "    <tr>\n",
       "      <th>q</th>\n",
       "      <td>0.90000</td>\n",
       "    </tr>\n",
       "    <tr>\n",
       "      <th>alpha</th>\n",
       "      <td>0.03600</td>\n",
       "    </tr>\n",
       "    <tr>\n",
       "      <th>delta</th>\n",
       "      <td>0.33000</td>\n",
       "    </tr>\n",
       "    <tr>\n",
       "      <th>pi</th>\n",
       "      <td>100.00000</td>\n",
       "    </tr>\n",
       "    <tr>\n",
       "      <th>sigma</th>\n",
       "      <td>2.00000</td>\n",
       "    </tr>\n",
       "    <tr>\n",
       "      <th>dt</th>\n",
       "      <td>0.10000</td>\n",
       "    </tr>\n",
       "  </tbody>\n",
       "</table>\n",
       "</div>"
      ],
      "text/plain": [
       "gamma      1.36000\n",
       "tau        0.20000\n",
       "mu         0.00136\n",
       "beta       0.00027\n",
       "p          0.10000\n",
       "q          0.90000\n",
       "alpha      0.03600\n",
       "delta      0.33000\n",
       "pi       100.00000\n",
       "sigma      2.00000\n",
       "dt         0.10000\n",
       "dtype: float64"
      ]
     },
     "execution_count": 14,
     "metadata": {},
     "output_type": "execute_result"
    }
   ],
   "source": [
    "#Everything else is stored in System\n",
    "system = System(gamma = 1.36, #rate at which uninfected CD4 lymphocytes arise\n",
    "               tau = 0.2, #the proportion of uninfected CD4  lymphocytes are activated\n",
    "               mu = 0.00136, #death rate of uninfected CD4 lymphocytes \n",
    "               beta = 0.00027, #infection rate of uninfected CD4 lymphocytes\n",
    "               p = 0.1, #the proportion of cells that become latenly infected cells\n",
    "               q = 1- 0.1, #the number of cells that go straight to being annotated\n",
    "               alpha = 0.036, #activation rate of latently infected cells\n",
    "               delta = 0.33, #death rate of actively infected CD4 lymphocytes\n",
    "               pi = 100, #rate of production of virons by an actively infected cell\n",
    "               sigma = 2, #removal rate of cell free virons\n",
    "               dt = 0.1) #small time step"
   ]
  },
  {
   "cell_type": "code",
   "execution_count": 15,
   "metadata": {},
   "outputs": [],
   "source": [
    "#creates function that updates State variables for each dt and returns the new State\n",
    "def update_func(state, system):\n",
    "    \n",
    "    new_state = state\n",
    "    #equations that affect the change in State variables\n",
    "    dR = system.gamma * system.tau + system.mu * state.R - system.beta * state.V * state.R\n",
    "    dL = system.p * system.beta * state.V * state.R - system.mu * state.L - system.alpha * state.L\n",
    "    dE = system.q * system.beta * state.V * state.R + system.alpha * state.L - system.delta * state.E\n",
    "    dV = system.pi * state.E - system.sigma * state.V\n",
    "   \n",
    "    #applies equations to each state variable\n",
    "    \n",
    "    new_state.R += dR * system.dt\n",
    "    new_state.L += dL * system.dt\n",
    "    new_state.E += dE * system.dt\n",
    "    new_state.V += dV * system.dt\n",
    "    \n",
    "    return new_state"
   ]
  },
  {
   "cell_type": "code",
   "execution_count": 18,
   "metadata": {},
   "outputs": [],
   "source": [
    "#runs a simulation of the system and returns a time frame\n",
    "def run_simulation(system, update_func):\n",
    "    \n",
    "    frame = TimeFrame(columns=init.index)\n",
    "    frame.row[0] = init\n",
    "    \n",
    "    for t in linrange(0, 200, system.dt):\n",
    "        frame.row[t+system.dt] = update_func(frame.row[t], system)\n",
    "        \n",
    "    return frame"
   ]
  },
  {
   "cell_type": "code",
   "execution_count": null,
   "metadata": {},
   "outputs": [],
   "source": [
    "#plots R, L and E\n",
    "results = run_simulation(system, update_func)\n",
    "plot(results.R)\n",
    "plot(results.L)\n",
    "plot(results.E)"
   ]
  },
  {
   "cell_type": "code",
   "execution_count": null,
   "metadata": {},
   "outputs": [],
   "source": [
    "#plots V\n",
    "results = run_simulation(system, update_func)\n",
    "plot(results.V)"
   ]
  },
  {
   "cell_type": "code",
   "execution_count": null,
   "metadata": {},
   "outputs": [],
   "source": []
  }
 ],
 "metadata": {
  "kernelspec": {
   "display_name": "Python 3",
   "language": "python",
   "name": "python3"
  },
  "language_info": {
   "codemirror_mode": {
    "name": "ipython",
    "version": 3
   },
   "file_extension": ".py",
   "mimetype": "text/x-python",
   "name": "python",
   "nbconvert_exporter": "python",
   "pygments_lexer": "ipython3",
   "version": "3.6.5"
  }
 },
 "nbformat": 4,
 "nbformat_minor": 2
}
